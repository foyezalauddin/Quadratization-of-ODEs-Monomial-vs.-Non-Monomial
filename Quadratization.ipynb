{
  "nbformat": 4,
  "nbformat_minor": 0,
  "metadata": {
    "colab": {
      "provenance": []
    },
    "kernelspec": {
      "name": "python3",
      "display_name": "Python 3"
    },
    "language_info": {
      "name": "python"
    }
  },
  "cells": [
    {
      "cell_type": "markdown",
      "source": [
        "# ***Code used in \"Quadratization of ODEs: Monomial vs. Non-Monomial\" by F. Alauddin.***\n"
      ],
      "metadata": {
        "id": "0ReGONjVSN7y"
      }
    },
    {
      "cell_type": "markdown",
      "source": [
        "### One Variable Quadratization, Code used for Theorem 3.1. Refer to Section 6.1. \n",
        "\n",
        "\\* *Note that this code requires the SageMath Package (https://doc.sagemath.org/html/en/installation/index.html)* "
      ],
      "metadata": {
        "id": "j1NxFdmASyUQ"
      }
    },
    {
      "cell_type": "code",
      "source": [
        "#Define Polynomial Ring\n",
        "R.<q2, q3, p0, p1, p2, p3, p5, x> = PolynomialRing(QQ, order = \"lex\")\n",
        "\n",
        "#Define function for obtaining coefficients behind x^i for any expression\n",
        "def coeffs_in_x(poly, deg):\n",
        "    return [ poly.coefficient({x : i}) for i in range(deg + 1) ]\n",
        "\n",
        "#Define our ODE p and new variable q\n",
        "p = p0 + p1 * x + p2 * x^2 + p3 * x^3 + p5 * x^5\n",
        "q = q2 * x^2 + q3 * x^3 + x^4 \n",
        "\n",
        "#Set up our matrices from which we want to take determinants and minors \n",
        "p_matrix = matrix([\n",
        "    coeffs_in_x(R(1), 5),\n",
        "    coeffs_in_x(x, 5),\n",
        "    coeffs_in_x(x^2, 5),\n",
        "    coeffs_in_x(q, 5),\n",
        "    coeffs_in_x(x * q, 5),\n",
        "    coeffs_in_x(p, 5)\n",
        "])\n",
        "\n",
        "q_prime_matrix = matrix([\n",
        "    coeffs_in_x(R(1), 8),\n",
        "    coeffs_in_x(x, 8),\n",
        "    coeffs_in_x(x^2, 8),\n",
        "    coeffs_in_x(q, 8),\n",
        "    coeffs_in_x(x * q, 8),\n",
        "    coeffs_in_x(q^2, 8),\n",
        "    coeffs_in_x(q.derivative(x) * p, 8)\n",
        "])\n",
        "\n",
        "#Define our set of polynomials (determinant of p matrix and minors of q matrix) as polys\n",
        "polys = [p_matrix.det()] + q_prime_matrix.minors(7)\n",
        "print(polys)\n",
        "\n",
        "#Compute Grobner Basis of polys and select polynomials only in terms of p_i's from the Grobner Basis\n",
        "I = ideal(polys)\n",
        "gb = I.groebner_basis()\n",
        "print(gb)\n",
        "only_in_p = [ poly for poly in gb if (poly in QQ[p0, p1, p2, p3, p5])]\n",
        "for poly in only_in_p:\n",
        "    print(poly)"
      ],
      "metadata": {
        "id": "FS8pPLTpTSOv"
      },
      "execution_count": null,
      "outputs": []
    },
    {
      "cell_type": "markdown",
      "source": [
        "### Two Variable Quadratization of Degree 6 Scalar Polynomial ODE, Code used for Theorem 3.2. Refer to Section 6.2.  \n",
        "\n",
        "\\* *Note that this code requires the SageMath Package (https://doc.sagemath.org/html/en/installation/index.html)* "
      ],
      "metadata": {
        "id": "JC3-iq8bTT1t"
      }
    },
    {
      "cell_type": "code",
      "source": [
        "#Define Polynomial Ring\n",
        "R.<x, c1, c2, c3, p0, p1, p2, p3, p4> = PolynomialRing(QQ, 9, order = 'degrevlex(4), lex(5)')\n",
        "\n",
        "#Define function for obtaining coefficients behind x^i for any expression\n",
        "def coeffs_in_x(poly, deg):\n",
        "    return [ poly.coefficient({x : i}) for i in range(deg + 1) ]\n",
        "\n",
        "#Define our ODE p and new variables, q and r\n",
        "p = p0 + p1 * x + p2 * x^2 + p3 * x^3 + p4 * x^4 + x^6\n",
        "q = 5/8*p3 * x^2 + x^5\n",
        "r = x^3 \n",
        "\n",
        "#Define our set of polynomials on which we hope to find the Grobner Basis\n",
        "polys = coeffs_in_x(p - (- c1 + 1) * q * x - (5/8*c1*p3 + 3/8*p3) * r - p4 * r * x - c1 * r^2 - p2 * x^2 - p1 * x - p0, 6) + coeffs_in_x(q.derivative(x)*p - (5*p1 - 15/8*p3*p4) * q - (- c2 + 5*p2) * q * x - 5 * q^2 - (5/8*c2*p3 - 15/8*p2*p3) * r - (5*p0 - 45/64*p3^2) * r * x - c2 * r^2 - 5*p4 * q * r - (-15/8*p1*p3 + 75/64*p3^2*p4) * x^2 - 5/4*p0*p3 * x, 10) + coeffs_in_x(r.derivative(x) * p - 9/8*p3 * q - (- c3 + 3*p4) * q * x - (5/8*c3*p3 + 3*p1 - 15/8*p3*p4) * r - 3*p2 * r * x - c3 * r^2 - 3 * q * r - (3*p0 - 45/64*p3^2) * x^2, 8)\n",
        "print(polys)\n",
        "\n",
        "#Compute Grobner Basis of polys and select polynomials only in terms of p_i's from the Grobner Basis\n",
        "I = ideal(polys)\n",
        "gb = I.groebner_basis()\n",
        "print(gb)\n",
        "only_in_p = [ poly for poly in gb if (poly in QQ[p0, p1, p2, p3, p4])]\n",
        "for poly in only_in_p:\n",
        "    print(only_in_p)"
      ],
      "metadata": {
        "id": "a6HYO-JjTY53"
      },
      "execution_count": null,
      "outputs": []
    }
  ]
}